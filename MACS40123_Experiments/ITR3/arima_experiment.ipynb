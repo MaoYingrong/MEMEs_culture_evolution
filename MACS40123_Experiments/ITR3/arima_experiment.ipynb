{
 "cells": [
  {
   "cell_type": "code",
   "execution_count": 1,
   "metadata": {},
   "outputs": [
    {
     "name": "stderr",
     "output_type": "stream",
     "text": [
      "/Users/yingrongmao/anaconda3/lib/python3.11/site-packages/pandas/core/arrays/masked.py:60: UserWarning: Pandas requires version '1.3.6' or newer of 'bottleneck' (version '1.3.5' currently installed).\n",
      "  from pandas.core import (\n"
     ]
    },
    {
     "data": {
      "text/html": [
       "<div>\n",
       "<style scoped>\n",
       "    .dataframe tbody tr th:only-of-type {\n",
       "        vertical-align: middle;\n",
       "    }\n",
       "\n",
       "    .dataframe tbody tr th {\n",
       "        vertical-align: top;\n",
       "    }\n",
       "\n",
       "    .dataframe thead th {\n",
       "        text-align: right;\n",
       "    }\n",
       "</style>\n",
       "<table border=\"1\" class=\"dataframe\">\n",
       "  <thead>\n",
       "    <tr style=\"text-align: right;\">\n",
       "      <th></th>\n",
       "      <th>meme_id</th>\n",
       "      <th>cluster</th>\n",
       "      <th>created_utc</th>\n",
       "      <th>title</th>\n",
       "      <th>selftext</th>\n",
       "      <th>author</th>\n",
       "      <th>num_comments</th>\n",
       "      <th>score</th>\n",
       "      <th>extracted_text</th>\n",
       "      <th>comments_text</th>\n",
       "      <th>created_date</th>\n",
       "    </tr>\n",
       "  </thead>\n",
       "  <tbody>\n",
       "    <tr>\n",
       "      <th>0</th>\n",
       "      <td>cawlo8</td>\n",
       "      <td>cluster_4</td>\n",
       "      <td>1.562651e+09</td>\n",
       "      <td>I have an MIDI keyboard, just no plug for it ):</td>\n",
       "      <td>NaN</td>\n",
       "      <td>YTMusicXD</td>\n",
       "      <td>0</td>\n",
       "      <td>3</td>\n",
       "      <td>When you want to easily make midi; limited pow...</td>\n",
       "      <td>NaN</td>\n",
       "      <td>2019-07-09</td>\n",
       "    </tr>\n",
       "    <tr>\n",
       "      <th>1</th>\n",
       "      <td>d72m1n</td>\n",
       "      <td>cluster_4</td>\n",
       "      <td>1.569021e+09</td>\n",
       "      <td>R.I.P</td>\n",
       "      <td>NaN</td>\n",
       "      <td>masnargom</td>\n",
       "      <td>0</td>\n",
       "      <td>95</td>\n",
       "      <td>When Imina room full of antivax children and f...</td>\n",
       "      <td>NaN</td>\n",
       "      <td>2019-09-20</td>\n",
       "    </tr>\n",
       "    <tr>\n",
       "      <th>2</th>\n",
       "      <td>bo6k2s</td>\n",
       "      <td>cluster_4</td>\n",
       "      <td>1.557769e+09</td>\n",
       "      <td>It's like a life hack</td>\n",
       "      <td>NaN</td>\n",
       "      <td>emanuelegay</td>\n",
       "      <td>2</td>\n",
       "      <td>4</td>\n",
       "      <td>Connect one Power Bank to another one Unlimite...</td>\n",
       "      <td>This is just plug in a power strip to itself\\n...</td>\n",
       "      <td>2019-05-13</td>\n",
       "    </tr>\n",
       "    <tr>\n",
       "      <th>3</th>\n",
       "      <td>cr40bc</td>\n",
       "      <td>cluster_4</td>\n",
       "      <td>1.565948e+09</td>\n",
       "      <td>I Finally Have Unlimited Power</td>\n",
       "      <td>NaN</td>\n",
       "      <td>Zaxoosh</td>\n",
       "      <td>0</td>\n",
       "      <td>64</td>\n",
       "      <td>When you finally get enough karma to post on r...</td>\n",
       "      <td>NaN</td>\n",
       "      <td>2019-08-16</td>\n",
       "    </tr>\n",
       "    <tr>\n",
       "      <th>4</th>\n",
       "      <td>apoel0</td>\n",
       "      <td>cluster_4</td>\n",
       "      <td>1.549939e+09</td>\n",
       "      <td>Crrevt</td>\n",
       "      <td>NaN</td>\n",
       "      <td>memeboiiii7059</td>\n",
       "      <td>0</td>\n",
       "      <td>7</td>\n",
       "      <td>whwn yoy make a meme wirh one hand Unlimited p...</td>\n",
       "      <td>NaN</td>\n",
       "      <td>2019-02-12</td>\n",
       "    </tr>\n",
       "  </tbody>\n",
       "</table>\n",
       "</div>"
      ],
      "text/plain": [
       "  meme_id    cluster   created_utc  \\\n",
       "0  cawlo8  cluster_4  1.562651e+09   \n",
       "1  d72m1n  cluster_4  1.569021e+09   \n",
       "2  bo6k2s  cluster_4  1.557769e+09   \n",
       "3  cr40bc  cluster_4  1.565948e+09   \n",
       "4  apoel0  cluster_4  1.549939e+09   \n",
       "\n",
       "                                             title selftext          author  \\\n",
       "0  I have an MIDI keyboard, just no plug for it ):      NaN       YTMusicXD   \n",
       "1                                            R.I.P      NaN       masnargom   \n",
       "2                            It's like a life hack      NaN     emanuelegay   \n",
       "3                   I Finally Have Unlimited Power      NaN         Zaxoosh   \n",
       "4                                           Crrevt      NaN  memeboiiii7059   \n",
       "\n",
       "   num_comments  score                                     extracted_text  \\\n",
       "0             0      3  When you want to easily make midi; limited pow...   \n",
       "1             0     95  When Imina room full of antivax children and f...   \n",
       "2             2      4  Connect one Power Bank to another one Unlimite...   \n",
       "3             0     64  When you finally get enough karma to post on r...   \n",
       "4             0      7  whwn yoy make a meme wirh one hand Unlimited p...   \n",
       "\n",
       "                                       comments_text created_date  \n",
       "0                                                NaN   2019-07-09  \n",
       "1                                                NaN   2019-09-20  \n",
       "2  This is just plug in a power strip to itself\\n...   2019-05-13  \n",
       "3                                                NaN   2019-08-16  \n",
       "4                                                NaN   2019-02-12  "
      ]
     },
     "execution_count": 1,
     "metadata": {},
     "output_type": "execute_result"
    }
   ],
   "source": [
    "import pandas as pd\n",
    "file_path = \"meme_table.csv\"\n",
    "meme_df = pd.read_csv(file_path)\n",
    "meme_df.head()"
   ]
  },
  {
   "cell_type": "code",
   "execution_count": 61,
   "metadata": {},
   "outputs": [],
   "source": [
    "import json\n",
    "import pandas as pd\n",
    "from datetime import datetime\n",
    "\n",
    "# Load data\n",
    "file_path = \"time_unit_meme.json\"\n",
    "with open(file_path, 'r') as json_file:\n",
    "    data = json.load(json_file)\n",
    "\n",
    "# Create DataFrame\n",
    "all_posts_df = pd.DataFrame(data.items(), columns=['nth month', 'Value'])\n",
    "\n",
    "# Define the start date\n",
    "start_date = pd.Timestamp('2008-12-01')\n",
    "\n",
    "# Calculate dates correctly\n",
    "all_posts_df['Date'] = all_posts_df['nth month'].apply(lambda x: start_date + pd.DateOffset(months=int(x)))\n",
    "\n",
    "# Format the dates\n",
    "all_posts_df['Date'] = pd.to_datetime(all_posts_df['Date']) + pd.offsets.MonthEnd(0) # Format as 'YYYY-MM-DD'"
   ]
  },
  {
   "cell_type": "code",
   "execution_count": 68,
   "metadata": {},
   "outputs": [],
   "source": [
    "all_posts_df[\"created_date\"] = pd.to_datetime(all_posts_df[\"Date\"])\n",
    "all_posts_df.set_index('created_date', inplace=True)"
   ]
  },
  {
   "cell_type": "code",
   "execution_count": 67,
   "metadata": {},
   "outputs": [
    {
     "data": {
      "text/html": [
       "<div>\n",
       "<style scoped>\n",
       "    .dataframe tbody tr th:only-of-type {\n",
       "        vertical-align: middle;\n",
       "    }\n",
       "\n",
       "    .dataframe tbody tr th {\n",
       "        vertical-align: top;\n",
       "    }\n",
       "\n",
       "    .dataframe thead th {\n",
       "        text-align: right;\n",
       "    }\n",
       "</style>\n",
       "<table border=\"1\" class=\"dataframe\">\n",
       "  <thead>\n",
       "    <tr style=\"text-align: right;\">\n",
       "      <th></th>\n",
       "      <th>nth month</th>\n",
       "      <th>Value</th>\n",
       "      <th>Date</th>\n",
       "    </tr>\n",
       "    <tr>\n",
       "      <th>created_date</th>\n",
       "      <th></th>\n",
       "      <th></th>\n",
       "      <th></th>\n",
       "    </tr>\n",
       "  </thead>\n",
       "  <tbody>\n",
       "    <tr>\n",
       "      <th>2008-12-31</th>\n",
       "      <td>0</td>\n",
       "      <td>3</td>\n",
       "      <td>2008-12-31</td>\n",
       "    </tr>\n",
       "    <tr>\n",
       "      <th>2009-01-31</th>\n",
       "      <td>1</td>\n",
       "      <td>1</td>\n",
       "      <td>2009-01-31</td>\n",
       "    </tr>\n",
       "    <tr>\n",
       "      <th>2009-02-28</th>\n",
       "      <td>2</td>\n",
       "      <td>0</td>\n",
       "      <td>2009-02-28</td>\n",
       "    </tr>\n",
       "    <tr>\n",
       "      <th>2009-03-31</th>\n",
       "      <td>3</td>\n",
       "      <td>0</td>\n",
       "      <td>2009-03-31</td>\n",
       "    </tr>\n",
       "    <tr>\n",
       "      <th>2009-04-30</th>\n",
       "      <td>4</td>\n",
       "      <td>0</td>\n",
       "      <td>2009-04-30</td>\n",
       "    </tr>\n",
       "  </tbody>\n",
       "</table>\n",
       "</div>"
      ],
      "text/plain": [
       "             nth month  Value       Date\n",
       "created_date                            \n",
       "2008-12-31           0      3 2008-12-31\n",
       "2009-01-31           1      1 2009-01-31\n",
       "2009-02-28           2      0 2009-02-28\n",
       "2009-03-31           3      0 2009-03-31\n",
       "2009-04-30           4      0 2009-04-30"
      ]
     },
     "execution_count": 67,
     "metadata": {},
     "output_type": "execute_result"
    }
   ],
   "source": [
    "all_posts_df.head()"
   ]
  },
  {
   "cell_type": "code",
   "execution_count": 52,
   "metadata": {},
   "outputs": [
    {
     "name": "stderr",
     "output_type": "stream",
     "text": [
      "/var/folders/rg/p_ps2y216432jwhfjvk8nh8m0000gn/T/ipykernel_15897/287681254.py:3: SettingWithCopyWarning: \n",
      "A value is trying to be set on a copy of a slice from a DataFrame.\n",
      "Try using .loc[row_indexer,col_indexer] = value instead\n",
      "\n",
      "See the caveats in the documentation: https://pandas.pydata.org/pandas-docs/stable/user_guide/indexing.html#returning-a-view-versus-a-copy\n",
      "  cluster_df['created_date'] = pd.to_datetime(cluster_df['created_date'])\n",
      "/var/folders/rg/p_ps2y216432jwhfjvk8nh8m0000gn/T/ipykernel_15897/287681254.py:5: FutureWarning: 'M' is deprecated and will be removed in a future version, please use 'ME' instead.\n",
      "  monthly_frequency = cluster_df.resample('M').size()\n"
     ]
    }
   ],
   "source": [
    "cluster_to_analyze = \"cluster_175\"  # Replace with the cluster you want to analyze\n",
    "cluster_df = meme_df[meme_df[\"cluster\"] == cluster_to_analyze]\n",
    "cluster_df['created_date'] = pd.to_datetime(cluster_df['created_date'])\n",
    "cluster_df.set_index('created_date', inplace=True)\n",
    "monthly_frequency = cluster_df.resample('M').size()"
   ]
  },
  {
   "cell_type": "code",
   "execution_count": 70,
   "metadata": {},
   "outputs": [],
   "source": [
    "aligned_template = monthly_frequency.reindex(all_posts_df.index)"
   ]
  },
  {
   "cell_type": "code",
   "execution_count": 74,
   "metadata": {},
   "outputs": [],
   "source": [
    "aligned_2 = all_posts_df.reindex(monthly_frequency.index)"
   ]
  },
  {
   "cell_type": "code",
   "execution_count": 76,
   "metadata": {},
   "outputs": [
    {
     "data": {
      "text/html": [
       "<div>\n",
       "<style scoped>\n",
       "    .dataframe tbody tr th:only-of-type {\n",
       "        vertical-align: middle;\n",
       "    }\n",
       "\n",
       "    .dataframe tbody tr th {\n",
       "        vertical-align: top;\n",
       "    }\n",
       "\n",
       "    .dataframe thead th {\n",
       "        text-align: right;\n",
       "    }\n",
       "</style>\n",
       "<table border=\"1\" class=\"dataframe\">\n",
       "  <thead>\n",
       "    <tr style=\"text-align: right;\">\n",
       "      <th></th>\n",
       "      <th>nth month</th>\n",
       "      <th>Value</th>\n",
       "      <th>Date</th>\n",
       "    </tr>\n",
       "    <tr>\n",
       "      <th>created_date</th>\n",
       "      <th></th>\n",
       "      <th></th>\n",
       "      <th></th>\n",
       "    </tr>\n",
       "  </thead>\n",
       "  <tbody>\n",
       "    <tr>\n",
       "      <th>2018-02-28</th>\n",
       "      <td>110</td>\n",
       "      <td>1241</td>\n",
       "      <td>2018-02-28</td>\n",
       "    </tr>\n",
       "    <tr>\n",
       "      <th>2018-03-31</th>\n",
       "      <td>111</td>\n",
       "      <td>1127</td>\n",
       "      <td>2018-03-31</td>\n",
       "    </tr>\n",
       "    <tr>\n",
       "      <th>2018-04-30</th>\n",
       "      <td>112</td>\n",
       "      <td>1155</td>\n",
       "      <td>2018-04-30</td>\n",
       "    </tr>\n",
       "    <tr>\n",
       "      <th>2018-05-31</th>\n",
       "      <td>113</td>\n",
       "      <td>1258</td>\n",
       "      <td>2018-05-31</td>\n",
       "    </tr>\n",
       "    <tr>\n",
       "      <th>2018-06-30</th>\n",
       "      <td>114</td>\n",
       "      <td>1182</td>\n",
       "      <td>2018-06-30</td>\n",
       "    </tr>\n",
       "  </tbody>\n",
       "</table>\n",
       "</div>"
      ],
      "text/plain": [
       "             nth month  Value       Date\n",
       "created_date                            \n",
       "2018-02-28         110   1241 2018-02-28\n",
       "2018-03-31         111   1127 2018-03-31\n",
       "2018-04-30         112   1155 2018-04-30\n",
       "2018-05-31         113   1258 2018-05-31\n",
       "2018-06-30         114   1182 2018-06-30"
      ]
     },
     "execution_count": 76,
     "metadata": {},
     "output_type": "execute_result"
    }
   ],
   "source": [
    "aligned_2.head()"
   ]
  },
  {
   "cell_type": "code",
   "execution_count": 77,
   "metadata": {},
   "outputs": [],
   "source": [
    "result = monthly_frequency / aligned_2['Value']"
   ]
  },
  {
   "cell_type": "code",
   "execution_count": 78,
   "metadata": {},
   "outputs": [
    {
     "data": {
      "text/plain": [
       "created_date\n",
       "2018-02-28    0.000806\n",
       "2018-03-31    0.000000\n",
       "2018-04-30    0.000866\n",
       "2018-05-31    0.002385\n",
       "2018-06-30    0.001692\n",
       "Freq: ME, dtype: float64"
      ]
     },
     "execution_count": 78,
     "metadata": {},
     "output_type": "execute_result"
    }
   ],
   "source": [
    "result.head()"
   ]
  },
  {
   "cell_type": "code",
   "execution_count": 80,
   "metadata": {},
   "outputs": [
    {
     "data": {
      "text/plain": [
       "pandas.core.frame.DataFrame"
      ]
     },
     "execution_count": 80,
     "metadata": {},
     "output_type": "execute_result"
    }
   ],
   "source": [
    "a = result.reset_index()\n",
    "type(a)"
   ]
  },
  {
   "cell_type": "code",
   "execution_count": 82,
   "metadata": {},
   "outputs": [
    {
     "name": "stdout",
     "output_type": "stream",
     "text": [
      "ADF Statistic: -4.641790945354079\n",
      "p-value: 0.000108098872350047\n"
     ]
    }
   ],
   "source": [
    "from statsmodels.tsa.stattools import adfuller\n",
    "result = adfuller(a[0])\n",
    "print(f\"ADF Statistic: {result[0]}\")\n",
    "print(f\"p-value: {result[1]}\")"
   ]
  },
  {
   "cell_type": "code",
   "execution_count": 83,
   "metadata": {},
   "outputs": [
    {
     "data": {
      "image/png": "[encoded data removed]",
      "text/plain": [
       "<Figure size 640x480 with 1 Axes>"
      ]
     },
     "metadata": {},
     "output_type": "display_data"
    },
    {
     "data": {
      "image/png": "[encoded data removed]",
      "text/plain": [
       "<Figure size 640x480 with 1 Axes>"
      ]
     },
     "metadata": {},
     "output_type": "display_data"
    }
   ],
   "source": [
    "from statsmodels.graphics.tsaplots import plot_acf, plot_pacf\n",
    "import matplotlib.pyplot as plt\n",
    "\n",
    "plot_acf(a[0])\n",
    "\n",
    "plot_pacf(a[0])\n",
    "plt.show()"
   ]
  },
  {
   "cell_type": "code",
   "execution_count": 91,
   "metadata": {},
   "outputs": [
    {
     "name": "stdout",
     "output_type": "stream",
     "text": [
      "                               SARIMAX Results                                \n",
      "==============================================================================\n",
      "Dep. Variable:                      y   No. Observations:                   71\n",
      "Model:                 ARIMA(1, 0, 0)   Log Likelihood                 440.915\n",
      "Date:                Fri, 29 Nov 2024   AIC                           -875.830\n",
      "Time:                        16:36:24   BIC                           -869.042\n",
      "Sample:                             0   HQIC                          -873.130\n",
      "                                 - 71                                         \n",
      "Covariance Type:                  opg                                         \n",
      "==============================================================================\n",
      "                 coef    std err          z      P>|z|      [0.025      0.975]\n",
      "------------------------------------------------------------------------------\n",
      "const          0.0013      0.000     11.866      0.000       0.001       0.002\n",
      "ar.L1          0.4900      0.115      4.264      0.000       0.265       0.715\n",
      "sigma2      2.306e-07   3.42e-08      6.734      0.000    1.63e-07    2.98e-07\n",
      "===================================================================================\n",
      "Ljung-Box (L1) (Q):                   0.17   Jarque-Bera (JB):                 3.34\n",
      "Prob(Q):                              0.68   Prob(JB):                         0.19\n",
      "Heteroskedasticity (H):               0.66   Skew:                            -0.41\n",
      "Prob(H) (two-sided):                  0.31   Kurtosis:                         3.67\n",
      "===================================================================================\n",
      "\n",
      "Warnings:\n",
      "[1] Covariance matrix calculated using the outer product of gradients (complex-step).\n"
     ]
    }
   ],
   "source": [
    "from statsmodels.tsa.arima.model import ARIMA\n",
    "\n",
    "# Fit the ARIMA model\n",
    "model = ARIMA(a[0], order=(1, 0, 0))\n",
    "results = model.fit()\n",
    "\n",
    "# Print the model summary\n",
    "print(results.summary())"
   ]
  },
  {
   "cell_type": "code",
   "execution_count": null,
   "metadata": {},
   "outputs": [],
   "source": []
  }
 ],
 "metadata": {
  "kernelspec": {
   "display_name": "base",
   "language": "python",
   "name": "python3"
  },
  "language_info": {
   "codemirror_mode": {
    "name": "ipython",
    "version": 3
   },
   "file_extension": ".py",
   "mimetype": "text/x-python",
   "name": "python",
   "nbconvert_exporter": "python",
   "pygments_lexer": "ipython3",
   "version": "3.11.5"
  },
  "orig_nbformat": 4
 },
 "nbformat": 4,
 "nbformat_minor": 2
}
